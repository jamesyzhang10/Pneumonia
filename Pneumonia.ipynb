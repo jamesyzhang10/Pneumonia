{
  "nbformat": 4,
  "nbformat_minor": 0,
  "metadata": {
    "colab": {
      "name": "Pneumonia.ipynb",
      "provenance": [],
      "authorship_tag": "ABX9TyO0a4eeGNOHCm3N7wG6hfsQ",
      "include_colab_link": true
    },
    "kernelspec": {
      "name": "python3",
      "display_name": "Python 3"
    },
    "accelerator": "GPU"
  },
  "cells": [
    {
      "cell_type": "markdown",
      "metadata": {
        "id": "view-in-github",
        "colab_type": "text"
      },
      "source": [
        "<a href=\"https://colab.research.google.com/github/jamesyzhang10/Pneumonia/blob/main/Pneumonia.ipynb\" target=\"_parent\"><img src=\"https://colab.research.google.com/assets/colab-badge.svg\" alt=\"Open In Colab\"/></a>"
      ]
    },
    {
      "cell_type": "code",
      "metadata": {
        "id": "fWSZtaxpmiEw",
        "colab": {
          "base_uri": "https://localhost:8080/"
        },
        "outputId": "c73f36af-ee2b-417c-d0bd-41b8964ba6d1"
      },
      "source": [
        "import matplotlib.pyplot as plt\n",
        "import matplotlib.image as mpimg\n",
        "import numpy as np\n",
        "import cv2\n",
        "import os\n",
        "from google.colab import drive\n",
        "drive.mount('/content/drive')\n",
        "%tensorflow_version 2.x\n",
        "import tensorflow as tf\n",
        "from tensorflow import keras\n",
        "from tensorflow.keras.preprocessing import image\n",
        "from tensorflow.keras.preprocessing.image import ImageDataGenerator\n",
        "device_name = tf.test.gpu_device_name()\n",
        "if device_name != '/device:GPU:0':\n",
        "  raise SystemError('GPU device not found')\n",
        "print('Found GPU at: {}'.format(device_name))"
      ],
      "execution_count": 71,
      "outputs": [
        {
          "output_type": "stream",
          "text": [
            "Drive already mounted at /content/drive; to attempt to forcibly remount, call drive.mount(\"/content/drive\", force_remount=True).\n",
            "Found GPU at: /device:GPU:0\n"
          ],
          "name": "stdout"
        }
      ]
    },
    {
      "cell_type": "code",
      "metadata": {
        "colab": {
          "base_uri": "https://localhost:8080/"
        },
        "id": "hRbKuTuWFkss",
        "outputId": "76bd4907-3dc2-4333-9d88-0131da5a2aed"
      },
      "source": [
        "train = ImageDataGenerator(rescale = 1/255)\n",
        "train_set = train.flow_from_directory('/content/drive/MyDrive/Pneumonia/train', target_size = (150, 150), batch_size = 3, class_mode = 'binary')\n",
        "train_set.class_indices\n",
        "train_set.classes"
      ],
      "execution_count": 72,
      "outputs": [
        {
          "output_type": "stream",
          "text": [
            "Found 4192 images belonging to 2 classes.\n"
          ],
          "name": "stdout"
        },
        {
          "output_type": "execute_result",
          "data": {
            "text/plain": [
              "array([0, 0, 0, ..., 1, 1, 1], dtype=int32)"
            ]
          },
          "metadata": {
            "tags": []
          },
          "execution_count": 72
        }
      ]
    },
    {
      "cell_type": "code",
      "metadata": {
        "id": "-38VoBArmurP",
        "colab": {
          "base_uri": "https://localhost:8080/"
        },
        "outputId": "141fc171-4854-434c-ab98-cec22afd9ea9"
      },
      "source": [
        "#Create the sequential model\n",
        "model = keras.models.Sequential()\n",
        "\n",
        "model.add(keras.layers.Conv2D(32, (3,3), activation='relu', input_shape = (150, 150, 3)))\n",
        "model.add(keras.layers.MaxPooling2D(pool_size=(2,2)))\n",
        "\n",
        "model.add(keras.layers.Conv2D(64, (3,3), activation='relu'))\n",
        "model.add(keras.layers.MaxPooling2D((2,2)))\n",
        "\n",
        "model.add(keras.layers.Conv2D(128, (3,3), activation='relu'))\n",
        "model.add(keras.layers.MaxPooling2D((2,2)))\n",
        "\n",
        "#Hidden layer\n",
        "model.add(keras.layers.Flatten())\n",
        "model.add(keras.layers.Dense(128, activation = 'relu'))\n",
        "model.add(keras.layers.Dropout(0.5))\n",
        "\n",
        "#Output layer\n",
        "model.add(keras.layers.Dense(1, activation = 'sigmoid'))\n",
        "\n",
        "model.summary()"
      ],
      "execution_count": 73,
      "outputs": [
        {
          "output_type": "stream",
          "text": [
            "Model: \"sequential_15\"\n",
            "_________________________________________________________________\n",
            "Layer (type)                 Output Shape              Param #   \n",
            "=================================================================\n",
            "conv2d_44 (Conv2D)           (None, 148, 148, 32)      896       \n",
            "_________________________________________________________________\n",
            "max_pooling2d_44 (MaxPooling (None, 74, 74, 32)        0         \n",
            "_________________________________________________________________\n",
            "conv2d_45 (Conv2D)           (None, 72, 72, 64)        18496     \n",
            "_________________________________________________________________\n",
            "max_pooling2d_45 (MaxPooling (None, 36, 36, 64)        0         \n",
            "_________________________________________________________________\n",
            "conv2d_46 (Conv2D)           (None, 34, 34, 128)       73856     \n",
            "_________________________________________________________________\n",
            "max_pooling2d_46 (MaxPooling (None, 17, 17, 128)       0         \n",
            "_________________________________________________________________\n",
            "flatten_15 (Flatten)         (None, 36992)             0         \n",
            "_________________________________________________________________\n",
            "dense_30 (Dense)             (None, 128)               4735104   \n",
            "_________________________________________________________________\n",
            "dropout_15 (Dropout)         (None, 128)               0         \n",
            "_________________________________________________________________\n",
            "dense_31 (Dense)             (None, 1)                 129       \n",
            "=================================================================\n",
            "Total params: 4,828,481\n",
            "Trainable params: 4,828,481\n",
            "Non-trainable params: 0\n",
            "_________________________________________________________________\n"
          ],
          "name": "stdout"
        }
      ]
    },
    {
      "cell_type": "code",
      "metadata": {
        "id": "yE5NFzdqs6bS",
        "colab": {
          "base_uri": "https://localhost:8080/"
        },
        "outputId": "1c69d23a-088d-4d60-aedd-438335ff0d54"
      },
      "source": [
        "#Compile\n",
        "model.compile(\n",
        "    optimizer = \"rmsprop\",\n",
        "    loss = \"binary_crossentropy\",\n",
        "    metrics = [\"accuracy\"]\n",
        ")\n",
        "\n",
        "#Train the neural network\n",
        "model.fit(train_set, epochs = 3)\n",
        "\n",
        "# Save model to file\n",
        "model.save(\"pneumonia_classify\")\n",
        "reconstructed_model = tf.keras.models.load_model(\"pneumonia_classify\")"
      ],
      "execution_count": 74,
      "outputs": [
        {
          "output_type": "stream",
          "text": [
            "Epoch 1/3\n",
            "1398/1398 [==============================] - 49s 35ms/step - loss: 0.4180 - accuracy: 0.8411\n",
            "Epoch 2/3\n",
            "1398/1398 [==============================] - 49s 35ms/step - loss: 0.2053 - accuracy: 0.9407\n",
            "Epoch 3/3\n",
            "1398/1398 [==============================] - 49s 35ms/step - loss: 0.1736 - accuracy: 0.9528\n",
            "INFO:tensorflow:Assets written to: pneumonia_classify/assets\n"
          ],
          "name": "stdout"
        }
      ]
    }
  ]
}